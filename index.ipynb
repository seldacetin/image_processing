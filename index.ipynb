{
 "cells": [
  {
   "cell_type": "code",
   "execution_count": 1,
   "metadata": {},
   "outputs": [],
   "source": [
    "import os\n",
    "import cv2\n",
    "import numpy as np\n",
    "import pandas as pd\n",
    "from tensorflow.keras.utils import to_categorical\n",
    "from sklearn.model_selection import train_test_split"
   ]
  },
  {
   "cell_type": "code",
   "execution_count": 2,
   "metadata": {},
   "outputs": [],
   "source": [
    "def create_train_data(train_data_dir, num_classes, resize_col = 64, resize_row = 64, test_size = 0.2, random_state = 1):\n",
    "    data = []\n",
    "    labels = []\n",
    "\n",
    "    train_files = os.listdir(train_data_dir)\n",
    "\n",
    "    for classes in train_files:\n",
    "        classname = str(classes)\n",
    "        path = os.path.join(train_data_dir, classname)\n",
    "        images = os.listdir(path)\n",
    "        \n",
    "\n",
    "        for image in images:\n",
    "            image_path = os.path.join(path, image)\n",
    "            image_array = cv2.imread(image_path)\n",
    "            image_array = cv2.resize(image_array, (resize_row, resize_col))\n",
    "            data.append(image_array)\n",
    "            labels.append(classname)\n",
    "\n",
    "        data = np.array(data)\n",
    "        labels = np.array(labels)\n",
    "\n",
    "    x_train, x_val, y_train, y_val = train_test_split(data, labels, test_size = test_size, random_state = random_state)\n",
    "    y_train = to_categorical(y_train, num_classes)\n",
    "    y_val = to_categorical(y_val, num_classes)\n",
    "\n",
    "    return x_train, y_train, x_val, y_val "
   ]
  },
  {
   "cell_type": "code",
   "execution_count": 3,
   "metadata": {},
   "outputs": [],
   "source": [
    "def create_train_data(dataset_dir, train_info_dir, num_classes, resize_col=64, resize_row=64):\n",
    "    y_train = pd.read_csv(train_info_dir)\n",
    "    images = y_train['Path'].values\n",
    "    y_train = y_train[\"ClassId\"].values\n",
    "\n",
    "    x_train = []\n",
    "    \n",
    "    for image in images:\n",
    "        image_path = os.path.join(dataset_dir, image)\n",
    "        image_array = cv2.imread(image_path)\n",
    "        image_array = cv2.resize(image_array, (resize_row, resize_col))\n",
    "        x_train.append(image_array)\n",
    "\n",
    "    x_train = np.array(x_train)\n",
    "    y_train = np.array(y_train)\n",
    "\n",
    "    y_train = to_categorical(y_train, num_classes)\n",
    "    \n",
    "    return x_train, y_train\n",
    "\n",
    "\n",
    "def create_test_data(dataset_dir, test_info_dir, num_classes, resize_col=64, resize_row=64):\n",
    "    y_test = pd.read_csv(test_info_dir)\n",
    "    images = y_test['Path'].values\n",
    "    y_test = y_test[\"ClassId\"].values\n",
    "\n",
    "    x_test = []\n",
    "    \n",
    "    for image in images:\n",
    "        image_path = os.path.join(dataset_dir, image)\n",
    "        image_array = cv2.imread(image_path)\n",
    "        image_array = cv2.resize(image_array, (resize_row, resize_col))\n",
    "        x_test.append(image_array)\n",
    "\n",
    "    x_test = np.array(x_test)\n",
    "    y_test = np.array(y_test)\n",
    "\n",
    "    y_test = to_categorical(y_test, num_classes)\n",
    "    \n",
    "    return x_train, y_train, x_test, y_test\n"
   ]
  },
  {
   "cell_type": "code",
   "execution_count": 4,
   "metadata": {},
   "outputs": [
    {
     "ename": "NameError",
     "evalue": "name 'dataset_dir' is not defined",
     "output_type": "error",
     "traceback": [
      "\u001b[1;31m---------------------------------------------------------------------------\u001b[0m",
      "\u001b[1;31mNameError\u001b[0m                                 Traceback (most recent call last)",
      "Cell \u001b[1;32mIn[4], line 1\u001b[0m\n\u001b[1;32m----> 1\u001b[0m x_train, y_train, x_test, y_test \u001b[39m=\u001b[39m create_test_data(dataset_dir, test_info_dir, num_classes)\n\u001b[0;32m      2\u001b[0m \u001b[39mprint\u001b[39m(x_test\u001b[39m.\u001b[39mshape)\n\u001b[0;32m      3\u001b[0m \u001b[39mprint\u001b[39m(y_test\u001b[39m.\u001b[39mshape)\n",
      "\u001b[1;31mNameError\u001b[0m: name 'dataset_dir' is not defined"
     ]
    }
   ],
   "source": [
    "x_train, y_train, x_test, y_test = create_test_data(dataset_dir, test_info_dir, num_classes)\n",
    "print(x_test.shape)\n",
    "print(y_test.shape)\n"
   ]
  },
  {
   "cell_type": "code",
   "execution_count": null,
   "metadata": {},
   "outputs": [],
   "source": []
  }
 ],
 "metadata": {
  "kernelspec": {
   "display_name": "Python 3",
   "language": "python",
   "name": "python3"
  },
  "language_info": {
   "codemirror_mode": {
    "name": "ipython",
    "version": 3
   },
   "file_extension": ".py",
   "mimetype": "text/x-python",
   "name": "python",
   "nbconvert_exporter": "python",
   "pygments_lexer": "ipython3",
   "version": "3.10.4"
  },
  "orig_nbformat": 4
 },
 "nbformat": 4,
 "nbformat_minor": 2
}
